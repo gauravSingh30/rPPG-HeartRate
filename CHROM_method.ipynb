{
 "cells": [
  {
   "cell_type": "code",
   "execution_count": 1,
   "metadata": {
    "colab": {},
    "colab_type": "code",
    "id": "YKhwNNTB4HE6"
   },
   "outputs": [],
   "source": [
    "import numpy as np\n",
    "import cv2\n",
    "import time\n",
    "from scipy import interpolate, signal, fftpack, optimize\n",
    "from sklearn.decomposition import PCA\n",
    "from skimage.io import imread, imshow\n",
    "import matplotlib.pyplot as plt\n",
    "from skimage.color import rgb2gray, gray2rgb\n",
    "from scipy import interpolate, signal\n",
    "from scipy.signal import butter, lfilter,hann,periodogram\n",
    "from scipy import stats\n",
    "import itertools\n",
    "import math\n",
    "from skimage.io import imread, imshow\n",
    "import matplotlib.pyplot as plt"
   ]
  },
  {
   "cell_type": "code",
   "execution_count": null,
   "metadata": {
    "colab": {},
    "colab_type": "code",
    "id": "dfekWwXhWclN"
   },
   "outputs": [],
   "source": [
    "molarExtinctionCoeffOxy = {}\n",
    "molarExtinctionCoeffDoxy = {}\n",
    "with open(\"extinction_coeff.txt\") as f:\n",
    "    for line in f:\n",
    "       (lmbda, muoxy,mudoxy) = line.split()\n",
    "       molarExtinctionCoeffOxy[int(lmbda)] = float(muoxy)\n",
    "       molarExtinctionCoeffDoxy[int(lmbda)] = float(mudoxy)"
   ]
  },
  {
   "cell_type": "code",
   "execution_count": 2,
   "metadata": {
    "colab": {},
    "colab_type": "code",
    "id": "Zp8iNiXuZphn"
   },
   "outputs": [],
   "source": [
    "def computebackScatteringCoefficient(lmbda):\n",
    "  mieScattering = 2 * pow(10,-5) * pow(lmbda,-1.5)\n",
    "  rayleighScattering = 2 * pow(10,12) * pow(lmbda,-4)\n",
    "  return mieScattering + rayleighScattering"
   ]
  },
  {
   "cell_type": "code",
   "execution_count": 3,
   "metadata": {
    "colab": {},
    "colab_type": "code",
    "id": "yO1uCZsPWr1s"
   },
   "outputs": [],
   "source": [
    "# mu_skin computation \n",
    "def computeAbsorptionCoefficientSkin(lmbda):\n",
    "  a = (lmbda - 154) / 66.2\n",
    "  return 0.244 + 85.3 * np.exp(-1 * a)"
   ]
  },
  {
   "cell_type": "code",
   "execution_count": 4,
   "metadata": {
    "colab": {},
    "colab_type": "code",
    "id": "jTmY528CW4YE"
   },
   "outputs": [],
   "source": [
    "\n",
    "# mu_blood computation \n",
    "def computeAbsorptionCoefficientBlood(lmbda):\n",
    "  muOxy = (2.303 * molarExtinctionCoeffOxy[lmbda] * 150)/64500\n",
    "  muDoxy = (2.303 * molarExtinctionCoeffDoxy[lmbda] * 150)/64500\n",
    "  return 0.75 * muOxy + 0.25 * muDoxy "
   ]
  },
  {
   "cell_type": "code",
   "execution_count": 5,
   "metadata": {
    "colab": {},
    "colab_type": "code",
    "id": "sLhL6oSxW5ms"
   },
   "outputs": [],
   "source": [
    "# mu_dermis computation\n",
    "def computeAbsorptionCoefficientDermis(lmbda,fblood):\n",
    "  mublood = computeAbsorptionCoefficientBlood(lmbda)\n",
    "  muskin = computeAbsorptionCoefficientSkin(lmbda)\n",
    "  # print(mublood,muskin,lmbda,fblood)\n",
    "  mudermis = fblood * mublood + (1-fblood) * muskin\n",
    "  # print(mudermis)\n",
    "  return mudermis"
   ]
  },
  {
   "cell_type": "code",
   "execution_count": 6,
   "metadata": {
    "colab": {},
    "colab_type": "code",
    "id": "0hQ092ncW-I0"
   },
   "outputs": [],
   "source": [
    "def computeK(lmbda,fblood):\n",
    "  k = computeAbsorptionCoefficientDermis(lmbda,fblood)\n",
    "  s = computebackScatteringCoefficient(lmbda)\n",
    "  return np.sqrt(k*(k + 2*s))"
   ]
  },
  {
   "cell_type": "code",
   "execution_count": 7,
   "metadata": {
    "colab": {},
    "colab_type": "code",
    "id": "1nMneIneXDYb"
   },
   "outputs": [],
   "source": [
    "\n",
    "def computeBeta(lmbda,fblood):\n",
    "  k = computeAbsorptionCoefficientDermis(lmbda,fblood)\n",
    "  s = computebackScatteringCoefficient(lmbda)\n",
    "  return np.sqrt(k/( k + 2*s ))"
   ]
  },
  {
   "cell_type": "code",
   "execution_count": 8,
   "metadata": {
    "colab": {},
    "colab_type": "code",
    "id": "wAZm1lVSXNzh"
   },
   "outputs": [],
   "source": [
    "\n",
    "\n",
    "def computeDk_Dfblood(lmbda):\n",
    "  mublood = computeAbsorptionCoefficientBlood(lmbda)\n",
    "  muskin = computeAbsorptionCoefficientSkin(lmbda)\n",
    "  return mublood - muskin\n",
    "  "
   ]
  },
  {
   "cell_type": "code",
   "execution_count": 9,
   "metadata": {
    "colab": {},
    "colab_type": "code",
    "id": "RWWHhctKXRfC"
   },
   "outputs": [],
   "source": [
    "\n",
    "\n",
    "def computeDbeta2_Dk(lmbda,fblood):\n",
    "  k = computeAbsorptionCoefficientDermis(lmbda,fblood)\n",
    "  s = computebackScatteringCoefficient(lmbda)\n",
    "  return (2 * s) / pow(k + 2 * s, 2)\n"
   ]
  },
  {
   "cell_type": "code",
   "execution_count": 10,
   "metadata": {
    "colab": {},
    "colab_type": "code",
    "id": "etsyome5XUy8"
   },
   "outputs": [],
   "source": [
    "def computeDK_Dk(lmbda,fblood):\n",
    "  k = computeAbsorptionCoefficientDermis(lmbda,fblood)\n",
    "  s = computebackScatteringCoefficient(lmbda)\n",
    "  return ( k + s) / np.sqrt(k*(k + 2 *s ))"
   ]
  },
  {
   "cell_type": "code",
   "execution_count": 11,
   "metadata": {
    "colab": {},
    "colab_type": "code",
    "id": "CRiTxv8AXXM4"
   },
   "outputs": [],
   "source": [
    "def computeDR_DK(lmbda,fblood,d):\n",
    "  b = computeBeta(lmbda,fblood)\n",
    "  K = computeK(lmbda,fblood)\n",
    "  nr = (1 - b * b) * 8 * b* d\n",
    "  dr = pow((pow((1 + b),2) * np.exp(K*d) - pow((1 - b),2) * np.exp(-1*K*d)),2 )\n",
    "  return nr/dr"
   ]
  },
  {
   "cell_type": "code",
   "execution_count": 12,
   "metadata": {
    "colab": {},
    "colab_type": "code",
    "id": "0xtMHLxyXaze"
   },
   "outputs": [],
   "source": [
    "\n",
    "def computeDR_Dbeta2(lmbda,fblood,d):\n",
    "  b = computeBeta(lmbda,fblood)\n",
    "  K = computeK(lmbda,fblood)\n",
    "  dr = (pow((1 + b),2) * np.exp(K*d)) - (pow((1 - b),2) * np.exp(-1*K*d))\n",
    "  trm2 = 1/dr \n",
    "  nr = (pow(b,2) -1) * ((np.exp(K*d)*(1 + 1/b)) - ((1 - 1/b)*np.exp(-1*K*d)))\n",
    "  trm1 = nr / pow(dr,2)\n",
    "  return  (trm1 - trm2) * (np.exp(K*d) - np.exp(-1*K*d))  "
   ]
  },
  {
   "cell_type": "code",
   "execution_count": 13,
   "metadata": {
    "colab": {},
    "colab_type": "code",
    "id": "NtfzCUzGXdpA"
   },
   "outputs": [],
   "source": [
    "def computeRdermis(lmbda,fblood,d):\n",
    "  DR_Dbeta2 = computeDR_Dbeta2(lmbda,fblood,d)\n",
    "  Dbeta2_Dk = computeDbeta2_Dk(lmbda,fblood)\n",
    "  DR_DK = computeDR_DK(lmbda,fblood,d)\n",
    "  DK_Dk = computeDK_Dk(lmbda,fblood)\n",
    "  Dk_Dfblood = computeDk_Dfblood(lmbda)\n",
    "  #https://openaccess.thecvf.com/content_ICCV_2017_workshops/papers/w16/Alotaibi_A_Biophysical_3D_ICCV_2017_paper.pdf table1 of this paper deltaFblood mentioned\n",
    "  deltaFblood = 0.05\n",
    "  # print(\"DR_Dbeta2 =\",DR_Dbeta2, \" Dbeta2_Dk =\",Dbeta2_Dk,\" DR_DK = \",DR_DK, \" DK_Dk = \",DK_Dk,\" Dk_Dfblood = \",Dk_Dfblood)\n",
    "  Rdermis = ( DR_DK * DK_Dk + DR_Dbeta2 * Dbeta2_Dk ) * Dk_Dfblood * deltaFblood\n",
    "  return Rdermis \n"
   ]
  },
  {
   "cell_type": "code",
   "execution_count": 14,
   "metadata": {
    "colab": {},
    "colab_type": "code",
    "id": "rke6P_2OXhBU"
   },
   "outputs": [],
   "source": [
    "def computeAbsorptionCoefficientEpidermis(lmbda,fmel):\n",
    "  mumel = 6.6 * pow(10,11) * pow(lmbda,-3.33)\n",
    "  muskin = computeAbsorptionCoefficientSkin(lmbda)\n",
    "  return fmel * mumel + (1-fmel) * muskin"
   ]
  },
  {
   "cell_type": "code",
   "execution_count": 15,
   "metadata": {
    "colab": {},
    "colab_type": "code",
    "id": "G3dKQBbCXj2g"
   },
   "outputs": [],
   "source": [
    "def computeTepidermis(lmbda,fmel):\n",
    "  muepidermis = computeAbsorptionCoefficientEpidermis(lmbda,fmel)\n",
    "  return np.exp(-1 * muepidermis)  "
   ]
  },
  {
   "cell_type": "code",
   "execution_count": 16,
   "metadata": {
    "colab": {},
    "colab_type": "code",
    "id": "0IuSwx8rXmjc"
   },
   "outputs": [],
   "source": [
    "\n",
    "def computeTotalReflectance(lmbda,fblood,fmel,d):\n",
    "  Tepidermis = computeTepidermis(lmbda,fmel)\n",
    "  Rdermis = computeRdermis(lmbda,fblood,d)\n",
    "  print(\"Tepidermis = \",Tepidermis)\n",
    "  print(\"Rdermis = \",Rdermis)\n",
    "  Rtotal = Tepidermis * Tepidermis * Rdermis\n",
    "  return Rtotal"
   ]
  },
  {
   "cell_type": "code",
   "execution_count": 53,
   "metadata": {
    "colab": {},
    "colab_type": "code",
    "id": "Xs4eyDZZXrIO"
   },
   "outputs": [],
   "source": [
    "classifierPath = \"./haarcascade_frontalface_default.xml\""
   ]
  },
  {
   "cell_type": "code",
   "execution_count": 42,
   "metadata": {
    "colab": {},
    "colab_type": "code",
    "id": "5hzPzMX9aBqI"
   },
   "outputs": [],
   "source": [
    "\n",
    "# Return a face region\n",
    "def haar_faces(img, haar_classifier):\n",
    "    face_params = dict(scaleFactor=1.1, \n",
    "                   minNeighbors=9,\n",
    "                   flags=cv2.CASCADE_SCALE_IMAGE)\n",
    "    # Detect faces using classifier.\n",
    "    gray = cv2.cvtColor(img, cv2.COLOR_BGR2GRAY)\n",
    "    \n",
    "    faces = haar_classifier.detectMultiScale(gray, **face_params)\n",
    "    \n",
    "    if len(faces) == 0:\n",
    "        return []\n",
    "    # selecting the face with max area\n",
    "    sizes = [h*w for x, y, w, h in faces]\n",
    "    if len(sizes) == 0:\n",
    "        return []\n",
    "    face_idx = np.argmax(sizes)\n",
    "    face_max = faces[face_idx]\n",
    "    return face_max\n",
    "\n",
    "# Crop the image face out\n",
    "def crop_face(img, face):\n",
    "    newimg = img[face[1] + int(0.1 * face[3]):face[1] + int(0.9 *face[3]),\n",
    "                 face[0] + int(0.25*face[2]) : face[0] + int(0.75*face[2])]       \n",
    "    return newimg\n",
    "\n",
    "# Display the image\n",
    "def display_image(image, name):\n",
    "    # cv2.namedWindow(name)\n",
    "    # cv2.imshow(name, image)\n",
    "    imshow(image)\n",
    "    plt.show()\n",
    "    # if (cv2.waitKey(5) == 27):\n",
    "    #     cv2.destroyWindow(name)\n",
    "    return\n",
    "\n",
    "# not yet implemented. (Useful for skin segmentation)\n",
    "def segment_otsu(image_grayscale, img_BGR):\n",
    "    threshold_value, threshold_image = cv2.threshold(image_grayscale, 0, 255, cv2.THRESH_BINARY_INV + cv2.THRESH_OTSU)\n",
    "    display_image(threshold_image, \"otsu\")\n",
    "    threshold_image_binary = 1- threshold_image/255\n",
    "    threshold_image_binary = np.repeat(threshold_image_binary[:, :, np.newaxis], 3, axis=2)\n",
    "    img_face_only = np.multiply(threshold_image_binary, img_BGR)\n",
    "    return img_face_only\n",
    "\n",
    "# Return the maximum frequency color within the input image & Draw a histogram of the Color in grayscale picture\n",
    "def getMaxColor(face_img):\n",
    "    face_grayscale = cv2.cvtColor(face_img, cv2.COLOR_BGR2GRAY)\n",
    "    # plt.hist(face_grayscale.ravel(), 256, [0, 256])\n",
    "    # plt.show()\n",
    "    hist,bins = np.histogram(face_grayscale.ravel(),256,[0,256])\n",
    "    mask = (face_grayscale.ravel() <= (np.argmax(hist) + 1)) * (face_grayscale.ravel() >= (np.argmax(hist) - 1))\n",
    "    mask_reshaped = mask.reshape((face_grayscale.shape[0], face_grayscale.shape[1], 1))\n",
    "    face_masked = face_img * mask_reshaped\n",
    "    axis1sum = np.sum(face_masked, axis = 1)\n",
    "    axis2sum = np.sum(axis1sum, axis = 0)\n",
    "    return axis2sum / sum(mask)\n",
    "\n",
    "# Draw a Color Patch\n",
    "def drawSkinTone(RGB_value, name):\n",
    "    image = np.zeros((300, 300, 3), np.uint8)\n",
    "    image[:] = (np.round(RGB_value[0]), np.round(RGB_value[1]), np.round(RGB_value[2]))\n",
    "    display_image(image, name)\n",
    "    return\n",
    "\n",
    "# Highlight Removal Algorithm.\n",
    "# Follow the algorithm on https://link.springer.com/content/pdf/10.1007%2F978-3-642-15561-1_7.pdf\n",
    "def compute_theta(input_img):\n",
    "    output_img = np.amax(input_img, axis = 2) / (np.sum(input_img, axis = 2) + 10e-7)\n",
    "    return output_img\n",
    "\n",
    "def compute_lemda(input_img):\n",
    "    min_pixel = np.amin(input_img, axis = 2) / (np.sum(input_img, axis = 2) + 10e-7)\n",
    "    min_pixel = np.expand_dims(min_pixel, axis = 2)\n",
    "    temp = np.amax((input_img / np.expand_dims(np.sum(input_img, axis = 2) + 10e-7, axis = 2) - min_pixel) / (1 - 3 * min_pixel), axis = 2)\n",
    "    return temp"
   ]
  },
  {
   "cell_type": "code",
   "execution_count": 18,
   "metadata": {
    "colab": {},
    "colab_type": "code",
    "id": "I5MrFdQbg0vH"
   },
   "outputs": [],
   "source": [
    "#http://www.easyrgb.com/en/math.php\n",
    "def rgb2lab(sR,sG,sB):\n",
    "  var_R = ( sR / 255.0 )\n",
    "  var_G = ( sG / 255.0 )\n",
    "  var_B = ( sB / 255.0 )\n",
    "\n",
    "  if ( var_R > 0.04045 ): \n",
    "    var_R = pow(( var_R + 0.055 ) / 1.055 , 2.4)   \n",
    "  else:                   \n",
    "    var_R = var_R / 12.92\n",
    "  if ( var_G > 0.04045 ):\n",
    "     var_G = pow(( ( var_G + 0.055 ) / 1.055 ),2.4)\n",
    "  else:\n",
    "    var_G = var_G / 12.92\n",
    "  if ( var_B > 0.04045 ):\n",
    "    var_B = pow(( ( var_B + 0.055 ) / 1.055 ),2.4)\n",
    "  else:\n",
    "    var_B = var_B / 12.92\n",
    "\n",
    "  var_R = var_R * 100\n",
    "  var_G = var_G * 100\n",
    "  var_B = var_B * 100\n",
    "\n",
    "  X = var_R * 0.4124 + var_G * 0.3576 + var_B * 0.1805\n",
    "  Y = var_R * 0.2126 + var_G * 0.7152 + var_B * 0.0722\n",
    "  Z = var_R * 0.0193 + var_G * 0.1192 + var_B * 0.9505\n",
    "  ReferenceX = 95.047\t\n",
    "  ReferenceY = 100.000\t\n",
    "  ReferenceZ = 108.883\n",
    "  var_X = X / ReferenceX\n",
    "  var_Y = Y / ReferenceY\n",
    "  var_Z = Z / ReferenceZ\n",
    "\n",
    "  if ( var_X > 0.008856 ):\n",
    "    var_X = pow(var_X,( 1/3 ))\n",
    "  else:\n",
    "    var_X = ( 7.787 * var_X ) + ( 16 / 116 )\n",
    "  if ( var_Y > 0.008856 ):\n",
    "    var_Y = pow(var_Y,( 1/3 ))\n",
    "  else:\n",
    "    var_Y = ( 7.787 * var_Y ) + ( 16 / 116 )\n",
    "  if ( var_Z > 0.008856 ):\n",
    "    var_Z = pow(var_Z,( 1/3 ))\n",
    "  else:\n",
    "    var_Z = ( 7.787 * var_Z ) + ( 16 / 116 )\n",
    "\n",
    "  L = ( 116 * var_Y ) - 16\n",
    "  a = 500 * ( var_X - var_Y )\n",
    "  b = 200 * ( var_Y - var_Z )\n",
    "  return L,a,b"
   ]
  },
  {
   "cell_type": "code",
   "execution_count": 19,
   "metadata": {
    "colab": {},
    "colab_type": "code",
    "id": "7IrDpvY6g3kz"
   },
   "outputs": [],
   "source": [
    "#http://krvarshney.github.io/pubs/KinyanjuiOCCPSV_fmlh2019.pdf  (Skin tone computation)\n",
    "def skinToneClassification(L,a,b):\n",
    "  #tone 0 - light, 1 - moderate, 2 - dark\n",
    "  tone = 0 \n",
    "  ITA = np.arctan((L -50)/b) * (180/math.pi)\n",
    "  if(ITA >= 51):\n",
    "    tone = 0\n",
    "  elif(ITA >= 28):\n",
    "    tone = 1\n",
    "  else:\n",
    "    tone = 2\n",
    "  return tone,ITA"
   ]
  },
  {
   "cell_type": "code",
   "execution_count": 20,
   "metadata": {
    "colab": {},
    "colab_type": "code",
    "id": "E5mD5Cghg7IY"
   },
   "outputs": [],
   "source": [
    "#https://omlc.org/news/jan98/skinoptics.html\n",
    "#https://omlc.org/news/dec14/Jacques_PMB2013/Jacques_PMB2013.pdf\n",
    "#table 3\n",
    "#based on skin tone\n",
    "def computevolumefractionMelanosomes(tone):\n",
    "  fmel = 3.3 # 0.87 \n",
    "  if tone == 0:\n",
    "    fmel = 3.3 # 0.87  \n",
    "  elif tone == 1:\n",
    "    fmel = 13.5 # 1.15  \n",
    "  else:\n",
    "    fmel = 30.5  # 1.65 \n",
    "  return fmel/100"
   ]
  },
  {
   "cell_type": "code",
   "execution_count": 21,
   "metadata": {
    "colab": {},
    "colab_type": "code",
    "id": "_bvGzTlag-nM"
   },
   "outputs": [],
   "source": [
    "#https://omlc.org/news/dec14/Jacques_PMB2013/Jacques_PMB2013.pdf\n",
    "def computevolumefractionBlood(tone):\n",
    "  fblood =  0.34\n",
    "  if tone == 0:\n",
    "    fblood = 0.34\n",
    "  elif tone == 1:\n",
    "    fblood = 0.41\n",
    "  else:\n",
    "    fblood = 0.12\n",
    "  return fblood/100"
   ]
  },
  {
   "cell_type": "code",
   "execution_count": 22,
   "metadata": {
    "colab": {},
    "colab_type": "code",
    "id": "JbLICx93LEx_"
   },
   "outputs": [],
   "source": [
    "\n",
    "def rgb2ycbcr(im):\n",
    "    xform = np.array([[.299, .587, .114], [-.1687, -.3313, .5], [.5, -.4187, -.0813]])\n",
    "    ycbcr = im.dot(xform.T)\n",
    "    ycbcr[:,:,[1,2]] += 128\n",
    "    return np.uint8(ycbcr)"
   ]
  },
  {
   "cell_type": "code",
   "execution_count": 23,
   "metadata": {
    "colab": {},
    "colab_type": "code",
    "id": "mxPj6h1eXt8R"
   },
   "outputs": [],
   "source": [
    "\n",
    "def make_filter(order=5, low_freq=0.75, high_freq=5, sample_freq=250.0):\n",
    "  nyq = 0.5 * sample_freq\n",
    "  low = low_freq / nyq\n",
    "  high = high_freq / nyq\n",
    "  b, a = signal.butter(order, [low, high], btype='bandpass')\n",
    "  func = lambda x: signal.lfilter(b, a, x)\n",
    "  func.b = b\n",
    "  func.a = a\n",
    "  return func"
   ]
  },
  {
   "cell_type": "code",
   "execution_count": 24,
   "metadata": {
    "colab": {},
    "colab_type": "code",
    "id": "V7V_-utt2T5x"
   },
   "outputs": [],
   "source": [
    "\n",
    "def prpsd(BVP, FS, LL_PR, UL_PR):\n",
    "  Nyquist = FS/2\n",
    "  FResBPM = 0.5 #resolution (bpm) of bins in power spectrum used to determine PR and SNR\n",
    "\n",
    "  N = (60*2*Nyquist)/FResBPM\n",
    "  print(\"periodogram comp start\")\n",
    "  print(BVP.shape)\n",
    "  window = np.hamming(BVP.shape[0]).ravel()\n",
    "  print(window.shape)\n",
    "  F,Pxx = periodogram(x = BVP.ravel(),fs = FS,window = window,nfft = N)\n",
    "  print(\"periodogram comp end\")\n",
    "  FMask = (F >= (LL_PR/60))&(F <= (UL_PR/60))\n",
    "  FRange = F[FMask]\n",
    "  PRange = Pxx[FMask]\n",
    "  # MaxInd = argmax(Pxx(FMask),1);\n",
    "  MaxInd = np.argmax(Pxx[FMask])\n",
    "  PR_F = FRange[MaxInd]\n",
    "  PR = PR_F*60\n",
    "  return PR\n",
    "  \n"
   ]
  },
  {
   "cell_type": "code",
   "execution_count": 25,
   "metadata": {
    "colab": {},
    "colab_type": "code",
    "id": "pYqSBVZPBH7L"
   },
   "outputs": [],
   "source": [
    "def calPeriodicity(X,FS):\n",
    "  # X = X / np.max(X)\n",
    "  X -= np.mean(X)\n",
    "  spd = np.abs(np.fft.rfft(X))**2\n",
    "  \n",
    "  # spd = spd[1:, :]\n",
    "\n",
    "  L = X.shape[0]\n",
    "        \n",
    "  freqs = float(FS) / L * np.arange(L / 2 + 1)\n",
    "  freqs_in_minute = 60. * freqs\n",
    "  # freqs_in_minute = freqs_in_minute[1:-1]\n",
    "  interest_idx = np.where((freqs_in_minute > 42) & (freqs_in_minute < 180))[0]\n",
    "\n",
    "  interest_idx_sub = interest_idx[:-1].copy() #advoid the indexing error\n",
    "  freqs_of_interest = freqs_in_minute[interest_idx_sub]\n",
    "  spd_of_interest = spd[interest_idx_sub]\n",
    "  \n",
    "  # maxPwrSrc = np.max(spd, axis=1)\n",
    "  # validPwr = maxPwrSrc[interest_idx_sub]\n",
    "  \n",
    "  maxPwrIdx = np.argmax(spd_of_interest)\n",
    "  return freqs_of_interest[maxPwrIdx]"
   ]
  },
  {
   "cell_type": "code",
   "execution_count": 46,
   "metadata": {
    "colab": {},
    "colab_type": "code",
    "id": "Iff6pYI14b3C"
   },
   "outputs": [],
   "source": [
    " def CHROM_DEHAAN(VideoFile,classifierPath,Weighted_CHROM,FramesToRead):\n",
    "#       VideoFile               = Video file path.\n",
    "#       FS                      = Video framerate (fps).\n",
    "  cap = cv2.VideoCapture(VideoFile)\n",
    "  FS = cap.get(cv2.CAP_PROP_FPS)\n",
    "  FS = float(FS)\n",
    "  SkinSegmentTF=True\n",
    "  LPF = 0.7 #low cutoff frequency (Hz) - specified as 40 bpm (~0.667 Hz) in reference\n",
    "  HPF = 2.5 #high cutoff frequency (Hz) - specified as 240 bpm (~4.0 Hz) in reference\n",
    "  \n",
    "  WinSec = 1.6 #1.6 #(was a 32 frame window with 20 fps camera)\n",
    "  total_frames = int(cap.get(cv2.CAP_PROP_FRAME_COUNT))\n",
    "  FramesToRead = 200\n",
    "  print(\"Total Frames = \",FramesToRead)\n",
    "  T = np.zeros((FramesToRead,1))   #initialize time vector\n",
    "  RGB = np.zeros((FramesToRead,3)) #initialize color signal\n",
    "  FN = 0  # current frame number\n",
    "\n",
    "  haar_cascade = cv2.CascadeClassifier(classifierPath)\n",
    "\n",
    "  fmel = 0\n",
    "  fblood = 0\n",
    "\n",
    "  #wavelength in nm\n",
    "  Rlambda = 650\n",
    "  Glambda = 550\n",
    "  Blambda = 450\n",
    "  RtotalRed = 0\n",
    "  RtotalGreen = 0\n",
    "  RtotalBlue = 0\n",
    "\n",
    "  eps = pow(10,-5)\n",
    "  frames = {}\n",
    "  while(cap.isOpened()):\n",
    "    # read frame by frame\n",
    "    ret, VidFrame = cap.read()\n",
    "    \n",
    "    if ret == True:\n",
    "      \n",
    "      T[FN] = FN/FS\n",
    "      capture = cv2.cvtColor(VidFrame, cv2.COLOR_BGR2RGB)\n",
    "      \n",
    "      # VidROI = capture\n",
    "      face_rect = haar_faces(capture, haar_cascade)\n",
    "      if len(face_rect) == 0:\n",
    "        continue\n",
    "      # See if the classification fails\n",
    "      face_only = crop_face(capture, face_rect)\n",
    "      VidROI = face_only\n",
    "      VidROI = np.array(face_only)\n",
    "      VidROI.astype(float)\n",
    "      \n",
    "      dominantSkinTone = getMaxColor(face_only)\n",
    "      # Define Variance of Color and Position Spaces\n",
    "      var_R = 0.04\n",
    "      var_S = 0.25\n",
    "      theta_img = compute_theta(capture)\n",
    "      theta_img = theta_img.astype('f')\n",
    "      lemda_img = compute_lemda(capture)\n",
    "      lemda_img = lemda_img.astype('f')\n",
    "      # Apply Joint Bilaterial Filtering. Theta as Input and Lemda as Reference\n",
    "      filtered = cv2.ximgproc.jointBilateralFilter(np.expand_dims(theta_img, axis = 2), np.expand_dims(lemda_img, axis = 2), -1, var_R, var_S)\n",
    "      # Follow the research at https://link.springer.com/content/pdf/10.1007%2F978-3-642-15561-1_7.pdf\n",
    "      # Subtract the Specular from total.\n",
    "\n",
    "      subtract = np.amax(capture, axis = 2) - filtered * np.sum(capture, axis = 2)\n",
    "      reduce = subtract / (1 - 3 * filtered)\n",
    "      diffuse_img = capture - np.expand_dims(reduce, axis = 2)\n",
    "      reduce = reduce / 256\n",
    "      # display_image(reduce, \"Specular Highlight\")\n",
    "      diffuse_img = diffuse_img.astype('uint8')\n",
    "      # display_image(diffuse_img, \"Diffuse\")\n",
    "\n",
    "      # Get the skin tone after specular highlight removal\n",
    "      faceDiffuse = crop_face(diffuse_img, face_rect)\n",
    "      spectral_intensity = crop_face(reduce, face_rect)\n",
    "      spectral_intensity.astype(float)\n",
    "      dominantSkinToneAfter = getMaxColor(faceDiffuse)\n",
    "      spectral_intensity = np.expand_dims(spectral_intensity, axis = 2)\n",
    "      # spectral_intensity = spectral_intensity/ np.sum(spectral_intensity, dtype = np.float32)\n",
    "      d = 0.2 # depth of epidermis\n",
    "      L,a,b = rgb2lab(dominantSkinToneAfter[0],dominantSkinToneAfter[1],dominantSkinToneAfter[2])\n",
    "      tone,ITA = skinToneClassification(L,a,b)\n",
    "      tone = 0\n",
    "\n",
    "      VidROI2 = VidROI\n",
    "      if(Weighted_CHROM == 1):\n",
    "        VidROI2 = VidROI / (spectral_intensity + eps)\n",
    "      # frames[FN] = VidROI\n",
    "      if(SkinSegmentTF): \n",
    "        YCBCR = rgb2ycbcr(VidROI)       # use original value for skin segmentation w/o adding specular noise weight\n",
    "        Yth = YCBCR[:,:,0]>80\n",
    "        CBth = (YCBCR[:,:,1]>77)*(YCBCR[:,:,1]<127)\n",
    "        CRth = (YCBCR[:,:,2]>133)*(YCBCR[:,:,2]<173)\n",
    "        temp = Yth*CBth*CRth\n",
    "        temp = np.expand_dims(temp, axis=-1)\n",
    "        temp = np.tile(np.uint8(temp),[1,1,3])\n",
    "        ROISkin = VidROI2 * temp\n",
    "        mask = np.uint8(ROISkin>0)\n",
    "        RGB[FN,:] = (np.sum(np.sum(ROISkin,axis = 0),axis = 0)).squeeze() / np.sum(np.sum(mask,axis = 0),axis = 0).squeeze()\n",
    "        \n",
    "      else:\n",
    "        RGB[FN,:] = np.sum(np.sum(VidROI2,axis = 1),axis = 0) / (VidROI2.shape[0]*VidROI2.shape[1])\n",
    "      FN = FN+1\n",
    "      if(FN==FramesToRead):\n",
    "        break\n",
    "    else:\n",
    "      break\n",
    "  cap.release()\n",
    "  \n",
    "  NyquistF = 1/2*FS\n",
    "  butter_filter = make_filter(order=3,low_freq=LPF, high_freq=HPF,sample_freq=FS)\n",
    "  WinL = int(np.ceil(WinSec*FS))\n",
    "  if(WinL%2 == 1): #force even window size for overlap, add of hanning windowed signals\n",
    "    WinL=WinL+1\n",
    "  \n",
    "  NWin = int(np.floor((FN-WinL/2)/(WinL/2)))\n",
    "\n",
    "\n",
    "  S = np.zeros((int(FN),1))\n",
    "\n",
    "  WinS = int(1)  #Window Start Index\n",
    "  WinM = int(WinS+WinL/2)    #Window Middle Index\n",
    "  WinE = int(WinS+WinL-1)    #Window End Index\n",
    "  for i in range(0,NWin):\n",
    "    \n",
    "    TWin = T[WinS-1:WinE,:]\n",
    "   \n",
    "    RGBBase = np.mean(RGB[WinS-1:WinE,:])\n",
    "    # RGBNorm = bsxfun(@times,RGB(WinS:WinE,:),1./RGBBase)-1;              ### start from here \n",
    "    RGBNorm = (RGB[WinS-1:WinE,:] * (1/RGBBase)) -1 \n",
    "    # CHROM\n",
    "    Xs = (3*RGBNorm[:,0]-2*RGBNorm[:,1]).squeeze()   #3Rn-2Gn\n",
    "    Ys = (1.5*RGBNorm[:,0]+RGBNorm[:,1]-1.5*RGBNorm[:,2]).squeeze()    #1.5Rn+Gn-1.5Bn\n",
    "    \n",
    "    Xf = butter_filter(Xs)\n",
    "    Yf = butter_filter(Ys)\n",
    "    \n",
    "    Alpha = np.std(Xf)/np.std(Yf)\n",
    "    \n",
    "    SWin = Xf - Alpha*Yf\n",
    "    \n",
    "    SWin = signal.hann(WinL)*SWin\n",
    "    SWin = np.array(SWin).reshape((WinL,1))\n",
    "    # %overlap, add Hanning windowed signals\n",
    "    if(i==-1):\n",
    "      S = SWin\n",
    "      TX = TWin\n",
    "    else:\n",
    "      # print(\"WinM-1 =\",WinM-1,\" WinE =\",WinE, \"S.shape = \",S[WinS-1:WinM-1].shape, SWin[0:int(WinL/2)].shape)\n",
    "      b = SWin[0:int(WinL/2)] + S[WinS-1:WinM-1]   #1st half overlap\n",
    "      \n",
    "      S[WinS-1:WinM-1] = b[:]\n",
    "      S[WinM-1:WinE] = SWin[int(WinL/2):]                  #2nd half\n",
    "      # TX[WinM-1:WinE] = TWin[int(WinL/2):]\n",
    "    \n",
    "    WinS = int(WinM)\n",
    "    WinM = int(WinS+WinL/2)\n",
    "    WinE = int(WinS+WinL-1)\n",
    "    print(WinS,WinM,WinE,SWin.shape[0],S.shape[0])\n",
    "  \n",
    "  BVP=S\n",
    "  T=T[0:BVP.shape[0]]\n",
    "  \n",
    "  PR = prpsd(BVP,FS,40,240)\n",
    "  PR2 = calPeriodicity(BVP,FS)\n",
    "  return PR, BVP\n",
    "  # return frames\n",
    "\n"
   ]
  },
  {
   "cell_type": "code",
   "execution_count": null,
   "metadata": {
    "colab": {},
    "colab_type": "code",
    "id": "MMctKYiZV1Ge"
   },
   "outputs": [],
   "source": [
    "haar_cascade = cv2.CascadeClassifier(classifierPath)\n",
    "capture = cv2.imread(filePath)\n",
    "face_rect = haar_faces(capture, haar_cascade)\n",
    "# See if the classification fails\n",
    "face_only = crop_face(capture, face_rect)"
   ]
  },
  {
   "cell_type": "code",
   "execution_count": 28,
   "metadata": {
    "colab": {},
    "colab_type": "code",
    "id": "0eqJG9V2W3IX"
   },
   "outputs": [],
   "source": [
    "import cv2\n",
    "import pandas as pd\n",
    "import numpy as np\n",
    "import os\n",
    "from skimage.io import imread, imshow\n",
    "\n",
    "from matplotlib import pyplot as plt\n",
    "import matplotlib.patches as patches\n",
    "from mtcnn import MTCNN\n",
    "import time\n",
    "\n",
    "from imutils import face_utils\n",
    "import numpy as np\n",
    "import imutils\n",
    "import dlib\n",
    "import skimage\n",
    "import cv2\n",
    "import matplotlib.pyplot as plt\n",
    "import heartpy as hp"
   ]
  },
  {
   "cell_type": "code",
   "execution_count": 50,
   "metadata": {},
   "outputs": [],
   "source": [
    "videoPath = './Project Videos/set2/video_bottom.mp4'\n",
    "groundTruth = pd.read_csv('./Project Videos/set2/MPDataExport.csv')\n",
    "\n",
    "classifierPath = \"./haarcascade.xml\"\n",
    "haar_cascade = cv2.CascadeClassifier(classifierPath)"
   ]
  },
  {
   "cell_type": "code",
   "execution_count": 51,
   "metadata": {},
   "outputs": [
    {
     "name": "stdout",
     "output_type": "stream",
     "text": [
      "Total Frames =  200\n",
      "25 49 72 48 200\n",
      "49 73 96 48 200\n",
      "73 97 120 48 200\n",
      "97 121 144 48 200\n",
      "121 145 168 48 200\n",
      "145 169 192 48 200\n",
      "169 193 216 48 200\n",
      "periodogram comp start\n",
      "(200, 1)\n",
      "(200,)\n",
      "periodogram comp end\n"
     ]
    }
   ],
   "source": [
    "pr, BVP = CHROM_DEHAAN(videoPath, classifierPath, 0, 200)"
   ]
  },
  {
   "cell_type": "code",
   "execution_count": null,
   "metadata": {},
   "outputs": [],
   "source": []
  },
  {
   "cell_type": "code",
   "execution_count": null,
   "metadata": {},
   "outputs": [],
   "source": []
  }
 ],
 "metadata": {
  "colab": {
   "collapsed_sections": [],
   "name": "CHROM_method.ipynb",
   "provenance": []
  },
  "kernelspec": {
   "display_name": "Python 3 (ipykernel)",
   "language": "python",
   "name": "python3"
  },
  "language_info": {
   "codemirror_mode": {
    "name": "ipython",
    "version": 3
   },
   "file_extension": ".py",
   "mimetype": "text/x-python",
   "name": "python",
   "nbconvert_exporter": "python",
   "pygments_lexer": "ipython3",
   "version": "3.8.12"
  }
 },
 "nbformat": 4,
 "nbformat_minor": 1
}
